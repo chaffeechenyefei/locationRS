{
 "cells": [
  {
   "cell_type": "code",
   "execution_count": 4,
   "metadata": {},
   "outputs": [],
   "source": [
    "#describe each location with companies in side\n",
    "import pandas as pd\n",
    "import numpy as np\n",
    "import os\n",
    "import pygeohash as pgh\n",
    "from math import *\n",
    "from sklearn.metrics.pairwise import euclidean_distances\n",
    "from sklearn.metrics import precision_recall_curve, roc_curve, auc\n",
    "import random\n",
    "import matplotlib.pyplot as plt\n",
    "from sklearn.linear_model import LogisticRegression as LR\n",
    "from sklearn.preprocessing import normalize\n",
    "pjoin = os.path.join\n"
   ]
  },
  {
   "cell_type": "code",
   "execution_count": 15,
   "metadata": {},
   "outputs": [
    {
     "name": "stderr",
     "output_type": "stream",
     "text": [
      "/Users/yefeichen/anaconda3/lib/python3.7/site-packages/numpy/lib/arraysetops.py:569: FutureWarning: elementwise comparison failed; returning scalar instead, but in the future will perform elementwise comparison\n",
      "  mask |= (ar1 == a)\n"
     ]
    },
    {
     "name": "stdout",
     "output_type": "stream",
     "text": [
      "Done\n"
     ]
    }
   ],
   "source": [
    "#data load\n",
    "datapath = '/Users/yefeichen/Database/location_recommender_system/'\n",
    "cfile = ['dnb_pa.csv','dnb_sf.csv','dnb_sj.csv']\n",
    "lfile = 'location_scorecard_190912.csv'\n",
    "clfile = ['PA.csv','SF.csv','SJ.csv']\n",
    "testfile = 'train_val_test_location_company_all.csv'\n",
    "\n",
    "ind_city = 1\n",
    "Query_Company = False\n",
    "\n",
    "comp_feat = pd.read_csv('company_feat.csv',index_col=0)\n",
    "loc_feat = pd.read_csv('location_feat.csv',index_col=0)\n",
    "all_pair = pd.read_csv(testfile,index_col=0)\n",
    "all_pair = all_pair[all_pair['city']==ind_city]\n",
    "\n",
    "all_pair_test = all_pair[all_pair['fold']==2].reset_index(drop=True)\n",
    "if Query_Company:\n",
    "    pass\n",
    "#     all_pair_test = all_pair_test.sort_values(by=['duns_number']).reset_index(drop=True)\n",
    "else:\n",
    "    all_pair_test = all_pair_test.sort_values(by=['atlas_location_uuid']).reset_index(drop=True)\n",
    "\n",
    "    \n",
    "dat1 = all_pair[all_pair['fold']==0]\n",
    "\n",
    "all_company_loc = pd.read_csv(pjoin(datapath,clfile[ind_city]))[['atlas_location_uuid','duns_number']]\n",
    "\n",
    "print('Done')"
   ]
  },
  {
   "cell_type": "code",
   "execution_count": 16,
   "metadata": {},
   "outputs": [
    {
     "name": "stdout",
     "output_type": "stream",
     "text": [
      "1439\n",
      "Index(['duns_number', 'atlas_location_uuid', 'label'], dtype='object')\n",
      "Done\n"
     ]
    }
   ],
   "source": [
    "loc_name = all_company_loc[['atlas_location_uuid']].groupby('atlas_location_uuid')[['atlas_location_uuid']].first().reset_index(drop=True)\n",
    "num_loc = len(loc_name)\n",
    "print(num_loc)\n",
    "del all_company_loc\n",
    "\n",
    "dat2 = dat1.sample(frac=1).reset_index(drop=True)\n",
    "twin_dat = dat1.join(dat2, how='left', lsuffix='_left', rsuffix = '_right').reset_index(drop=True)\n",
    "\n",
    "twin_dat = twin_dat[twin_dat['atlas_location_uuid_left'] != twin_dat['atlas_location_uuid_right']]\n",
    "neg_dat1 = twin_dat[['duns_number_left', 'atlas_location_uuid_right']].reset_index(drop=True)\n",
    "neg_dat1 = neg_dat1.rename(\n",
    "                columns={'duns_number_left': 'duns_number', 'atlas_location_uuid_right': 'atlas_location_uuid',\n",
    "                         'label_left':'label','fold_left':'fold','groundtruth_left':'groundtruth',\n",
    "                        'city_left':'city'})\n",
    "neg_dat1 = neg_dat1[['duns_number','atlas_location_uuid']]\n",
    "neg_dat1['label'] = 0\n",
    "\n",
    "print(neg_dat1.columns)\n",
    "\n",
    "# neg_dat2 = twin_dat[['duns_number_right', 'atlas_location_uuid_left']].reset_index(drop=True)\n",
    "# neg_dat2 = neg_dat2.rename(\n",
    "#                 columns={'duns_number_right': 'duns_number', 'atlas_location_uuid_left': 'atlas_location_uuid'})\n",
    "# neg_dat2 = neg_dat2[['duns_number','atlas_location_uuid']]\n",
    "# neg_dat2['label'] = 0\n",
    "\n",
    "pos_dat = dat1[['duns_number', 'atlas_location_uuid', 'label']]\n",
    "del dat1,dat2\n",
    "\n",
    "train_dat = pd.concat([pos_dat, neg_dat1], axis=0)\n",
    "train_dat = train_dat.sample(frac=1).reset_index(drop=True)\n",
    "print('Done')"
   ]
  },
  {
   "cell_type": "code",
   "execution_count": 17,
   "metadata": {},
   "outputs": [
    {
     "name": "stdout",
     "output_type": "stream",
     "text": [
      "train normalization\n",
      "test normalization\n"
     ]
    },
    {
     "name": "stderr",
     "output_type": "stream",
     "text": [
      "/Users/yefeichen/anaconda3/lib/python3.7/site-packages/sklearn/utils/validation.py:761: DataConversionWarning: A column-vector y was passed when a 1d array was expected. Please change the shape of y to (n_samples, ), for example using ravel().\n",
      "  y = column_or_1d(y, warn=True)\n"
     ]
    },
    {
     "name": "stdout",
     "output_type": "stream",
     "text": [
      "0.5262619549518802\n"
     ]
    }
   ],
   "source": [
    "trX = train_dat.merge(comp_feat,on='duns_number',how='left',suffixes=['','_right']).reset_index(drop=True)\n",
    "trX = trX.merge(loc_feat,on='atlas_location_uuid',how='left',suffixes=['','_right']).reset_index(drop=True)\n",
    "list_col = list(comp_feat.columns)+list(loc_feat.columns)\n",
    "list_col = [col for col in list_col if col not in ['duns_number', 'atlas_location_uuid', 'label']]\n",
    "trY = trX[['label']].to_numpy()\n",
    "trX = trX[list_col].to_numpy()\n",
    "\n",
    "ttX = all_pair_test[['duns_number','atlas_location_uuid']].merge(comp_feat,on='duns_number',how='left',suffixes=['','_right']).reset_index(drop=True)\n",
    "ttX = ttX.merge(loc_feat,on='atlas_location_uuid',how='left',suffixes=['','_right']).reset_index(drop=True)\n",
    "list_col = list(comp_feat.columns)+list(loc_feat.columns)\n",
    "list_col = [col for col in list_col if col not in ['duns_number', 'atlas_location_uuid', 'label']]\n",
    "ttX = ttX[list_col].to_numpy()\n",
    "ttY = (all_pair_test['atlas_location_uuid'] == all_pair_test['groundtruth']).to_numpy() + 0\n",
    "del all_pair_test\n",
    "\n",
    "print('train normalization')\n",
    "trX = normalize(trX,axis=1)\n",
    "print('test normalization')\n",
    "ttX = normalize(ttX,axis=1)\n",
    "\n",
    "clf = LR(random_state=0,fit_intercept=True,\n",
    "         solver = 'lbfgs',class_weight='balanced',\n",
    "         multi_class='ovr',max_iter=1e10).fit(trX,trY)\n",
    "\n",
    "score_ttY = clf.predict_proba(ttX)[:,1]\n",
    "\n",
    "\n",
    "fpr, tpr, roc_thresholds = roc_curve(ttY, score_ttY)\n",
    "roc_auc = auc(fpr,tpr)\n",
    "print(roc_auc)"
   ]
  },
  {
   "cell_type": "code",
   "execution_count": 7,
   "metadata": {},
   "outputs": [],
   "source": [
    "def calc_topk_acc_cat_all(QRscore,y_truth_cat,R_cat,k=3):\n",
    "    \"\"\"\n",
    "    QRscore: similarity score matrix shape [Q,R]\n",
    "    y_truth: index(related with R) of truth label of Query\n",
    "    return top1-topk acc\n",
    "    \"\"\"\n",
    "    res = []\n",
    "    y_truth_cat = y_truth_cat.reshape(-1,1)\n",
    "    max_k_preds = QRscore.argsort(axis=1)[:, -k:][:, ::-1] #得到top-k max label\n",
    "    max_k_cat = R_cat[max_k_preds]\n",
    "    M = max_k_cat==y_truth_cat\n",
    "    for k in range(M.shape[1]):\n",
    "        match_array = np.logical_or.reduce(M[:,:k+1], axis=1) #得到匹配结果\n",
    "        topk_acc_score = match_array.sum() / match_array.shape[0]\n",
    "        res.append(topk_acc_score)\n",
    "    return res\n",
    "\n",
    "def one_hot_2_idx(y_one_hot):\n",
    "    \"\"\"\n",
    "    y_one_hot:FloatTensor shape:[batch_size, nCls]\n",
    "    y_idx: LongTensor shape:[batch_size,1]\n",
    "    \"\"\"\n",
    "    _,idx_mat = torch.max(y_one_hot,1,keepdim=False)\n",
    "    y_idx = idx_mat.view(-1,1)\n",
    "    return y_idx\n",
    "\n",
    "def one_hot_2_idx_numpy(y_one_hot):\n",
    "    \"\"\"\n",
    "    y_one_hot:FloatTensor shape:[batch_size, nCls]\n",
    "    y_idx: LongTensor shape:[batch_size,1]\n",
    "    \"\"\"\n",
    "    idx_mat = np.argmax(y_one_hot,1)\n",
    "    y_idx = idx_mat.reshape(-1,1)\n",
    "    return y_idx\n",
    "\n",
    "def topk_recall_score_all(pred,truth,topk=5):\n",
    "    \"\"\"\n",
    "    N: sample number\n",
    "    M: class number\n",
    "    pred [N,M] \n",
    "    truth [N,M]\n",
    "    large value of score means 1 in truth, while small value of score means 0 in truth.\n",
    "    return each topL(L<=topk) average recall_score \n",
    "    \"\"\"\n",
    "    N,M = pred.shape\n",
    "    _N,_M = truth.shape\n",
    "    assert( M==_M and N==_N )\n",
    "    #get rank of the predicted score, acsending\n",
    "    rank_of_pred = np.argsort(pred,axis=1)\n",
    "    #get topk ranked label\n",
    "    ranked_label = np.take_along_axis(truth,rank_of_pred,axis=1)[:,-1:-topk-1:-1]#[N,topk]\n",
    "    nTruth = truth.sum(axis=1).reshape(-1,1)#[N,1]\n",
    "    nTruth[nTruth<1]=1\n",
    "    ranked_label = ranked_label/nTruth\n",
    "    recall_score = np.cumsum(ranked_label.sum(axis=0).reshape(1,-1),axis=1)\n",
    "    # nTruth = truth.sum(axis=1).reshape(1,-1)\n",
    "    # nTop = np.array(range(topk)).reshape(1,topk) + 1\n",
    "    recall_score = (recall_score / N)\n",
    "    return recall_score"
   ]
  },
  {
   "cell_type": "code",
   "execution_count": 18,
   "metadata": {},
   "outputs": [],
   "source": [
    "del ttX,trX\n",
    "prediction = score_ttY.copy()\n",
    "groundtruth = ttY.copy()"
   ]
  },
  {
   "cell_type": "code",
   "execution_count": 19,
   "metadata": {},
   "outputs": [
    {
     "data": {
      "image/png": "[encoded data removed]",
      "text/plain": [
       "<Figure size 432x288 with 1 Axes>"
      ]
     },
     "metadata": {
      "needs_background": "light"
     },
     "output_type": "display_data"
    }
   ],
   "source": [
    "if Query_Company:\n",
    "    score_ttY = prediction.reshape(-1,num_loc)\n",
    "    ttY = groundtruth.reshape(-1,num_loc)\n",
    "else:\n",
    "    score_ttY = prediction.reshape(num_loc,-1)\n",
    "    ttY = groundtruth.reshape(num_loc,-1)\n",
    "    \n",
    "    \n",
    "topk = 1000\n",
    "step = int(topk / 10)\n",
    "topk_recall = topk_recall_score_all(pred=score_ttY, truth=ttY, topk=topk)\n",
    "\n",
    "\n",
    "# score_ttY = score_ttY.reshape(-1,num_loc)\n",
    "# # groundtruth = all_pair_test[['duns_number','groundtruth']].groupby(['duns_number','groundtruth'])[['groundtruth']].first().reset_index(drop=True).to_numpy()\n",
    "# # R_cat = loc_name.to_numpy().reshape(-1)\n",
    "# # topk_precision = calc_topk_acc_cat_all(score_ttY,groundtruth,R_cat,k=100)\n",
    "# ttY = ttY.reshape(-1,num_loc)\n",
    "# truth_cat = one_hot_2_idx_numpy(ttY)\n",
    "# R_cat = np.array(list(range(num_loc)))\n",
    "\n",
    "# topk = 1000\n",
    "# step = 100\n",
    "# topk_precision = calc_topk_acc_cat_all(score_ttY,truth_cat,R_cat,k=topk)\n",
    "\n",
    "\n",
    "\n",
    "x = list(range(1,topk+1))\n",
    "y = list(topk_recall.reshape(-1))\n",
    "plt.figure()\n",
    "plt.plot(x,y)\n",
    "\n",
    "plt.grid()\n",
    "\n",
    "for z in range(10,topk+1,step):\n",
    "    z = z - 1\n",
    "    plt.text(z, y[z], '%.4f' % y[z], ha='center', va= 'bottom',fontsize=9)\n",
    "\n",
    "plt.xlabel(\"topk\")\n",
    "plt.ylabel(\"recall\")\n",
    "plt.title(\"topk recall score curve of %s\"%cfile[ind_city])\n",
    "plt.show()\n"
   ]
  },
  {
   "cell_type": "code",
   "execution_count": 40,
   "metadata": {},
   "outputs": [
    {
     "data": {
      "text/plain": [
       "((1244, 352), (437888, 6))"
      ]
     },
     "execution_count": 40,
     "metadata": {},
     "output_type": "execute_result"
    }
   ],
   "source": [
    "score_ttY.shape,all_pair_test.shape"
   ]
  },
  {
   "cell_type": "code",
   "execution_count": 59,
   "metadata": {},
   "outputs": [
    {
     "data": {
      "text/plain": [
       "((1244,), (352, 1))"
      ]
     },
     "execution_count": 59,
     "metadata": {},
     "output_type": "execute_result"
    }
   ],
   "source": [
    "groundtruth.shape,R_cat.shape"
   ]
  },
  {
   "cell_type": "code",
   "execution_count": 36,
   "metadata": {},
   "outputs": [
    {
     "data": {
      "text/plain": [
       "True"
      ]
     },
     "execution_count": 36,
     "metadata": {},
     "output_type": "execute_result"
    }
   ],
   "source": [
    "tmp = ttY.reshape(-1,num_loc)\n"
   ]
  },
  {
   "cell_type": "code",
   "execution_count": 68,
   "metadata": {},
   "outputs": [
    {
     "data": {
      "text/plain": [
       "(1244, 100, 1)"
      ]
     },
     "execution_count": 68,
     "metadata": {},
     "output_type": "execute_result"
    }
   ],
   "source": [
    "max_k_cat.shape"
   ]
  },
  {
   "cell_type": "code",
   "execution_count": 67,
   "metadata": {},
   "outputs": [
    {
     "data": {
      "text/plain": [
       "(1244, 1)"
      ]
     },
     "execution_count": 67,
     "metadata": {},
     "output_type": "execute_result"
    }
   ],
   "source": [
    "y_truth_cat.shape"
   ]
  },
  {
   "cell_type": "code",
   "execution_count": 42,
   "metadata": {},
   "outputs": [],
   "source": [
    "x = np.argmax(ttY,1)"
   ]
  },
  {
   "cell_type": "code",
   "execution_count": 43,
   "metadata": {},
   "outputs": [
    {
     "data": {
      "text/plain": [
       "array([176, 301, 174, ..., 230, 273, 273])"
      ]
     },
     "execution_count": 43,
     "metadata": {},
     "output_type": "execute_result"
    }
   ],
   "source": [
    "x"
   ]
  },
  {
   "cell_type": "code",
   "execution_count": null,
   "metadata": {},
   "outputs": [],
   "source": []
  }
 ],
 "metadata": {
  "kernelspec": {
   "display_name": "Python 3",
   "language": "python",
   "name": "python3"
  },
  "language_info": {
   "codemirror_mode": {
    "name": "ipython",
    "version": 3
   },
   "file_extension": ".py",
   "mimetype": "text/x-python",
   "name": "python",
   "nbconvert_exporter": "python",
   "pygments_lexer": "ipython3",
   "version": "3.7.3"
  }
 },
 "nbformat": 4,
 "nbformat_minor": 2
}
