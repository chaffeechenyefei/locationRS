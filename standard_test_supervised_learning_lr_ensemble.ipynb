{
 "cells": [
  {
   "cell_type": "code",
   "execution_count": 1,
   "metadata": {},
   "outputs": [],
   "source": [
    "#describe each location with companies in side\n",
    "import pandas as pd\n",
    "import numpy as np\n",
    "import os\n",
    "import pygeohash as pgh\n",
    "from math import *\n",
    "from sklearn.metrics.pairwise import euclidean_distances\n",
    "from sklearn.metrics import precision_recall_curve, roc_curve, auc\n",
    "import random\n",
    "import matplotlib.pyplot as plt\n",
    "from sklearn.preprocessing import normalize\n",
    "from sklearn.linear_model import LogisticRegression as LR\n",
    "pjoin = os.path.join\n"
   ]
  },
  {
   "cell_type": "code",
   "execution_count": 30,
   "metadata": {},
   "outputs": [
    {
     "name": "stderr",
     "output_type": "stream",
     "text": [
      "/Users/yefeichen/anaconda3/lib/python3.7/site-packages/numpy/lib/arraysetops.py:569: FutureWarning: elementwise comparison failed; returning scalar instead, but in the future will perform elementwise comparison\n",
      "  mask |= (ar1 == a)\n"
     ]
    },
    {
     "name": "stdout",
     "output_type": "stream",
     "text": [
      "Done\n"
     ]
    }
   ],
   "source": [
    "#data load\n",
    "datapath = '/Users/yefeichen/Database/location_recommender_system/'\n",
    "cfile = ['dnb_pa.csv','dnb_sf.csv','dnb_sj.csv']\n",
    "lfile = 'location_scorecard_190912.csv'\n",
    "clfile = ['PA.csv','SF.csv','SJ.csv']\n",
    "lfile_app = ['PA_comp_loc_score.csv','SF_comp_loc_score.csv','SJ_comp_loc_score.csv']\n",
    "testfile = 'train_val_test_location_company_all.csv'\n",
    "\n",
    "Query_Company = False\n",
    "\n",
    "ind_city = 1\n",
    "\n",
    "comp_feat = pd.read_csv('company_feat.csv',index_col=0)\n",
    "loc_feat = pd.read_csv('location_feat.csv',index_col=0)\n",
    "all_pair = pd.read_csv(testfile,index_col=0)\n",
    "all_pair = all_pair[all_pair['city']==ind_city]\n",
    "\n",
    "# ensemble_feat = pd.read_csv(lfile_app[ind_city])\n",
    "ensemble_feat = pd.read_csv(lfile_app[ind_city]).sample(frac=0.5).reset_index(drop=True)\n",
    "\n",
    "all_pair_test = all_pair[all_pair['fold']==2].reset_index(drop=True)\n",
    "if Query_Company:\n",
    "    pass\n",
    "#     all_pair_test = all_pair_test.sort_values(by=['duns_number']).reset_index(drop=True)\n",
    "else:\n",
    "    all_pair_test = all_pair_test.sort_values(by=['atlas_location_uuid']).reset_index(drop=True)\n",
    "\n",
    "dat1 = all_pair[all_pair['fold']==0]\n",
    "\n",
    "all_company_loc = pd.read_csv(pjoin(datapath,clfile[ind_city]))[['atlas_location_uuid','duns_number']]\n",
    "\n",
    "print('Done')"
   ]
  },
  {
   "cell_type": "code",
   "execution_count": 4,
   "metadata": {},
   "outputs": [],
   "source": [
    "all_pair = pd.read_csv(testfile,index_col=0)"
   ]
  },
  {
   "cell_type": "code",
   "execution_count": 4,
   "metadata": {},
   "outputs": [
    {
     "data": {
      "text/plain": [
       "614"
      ]
     },
     "execution_count": 4,
     "metadata": {},
     "output_type": "execute_result"
    }
   ],
   "source": []
  },
  {
   "cell_type": "code",
   "execution_count": 31,
   "metadata": {},
   "outputs": [
    {
     "name": "stdout",
     "output_type": "stream",
     "text": [
      "1439\n",
      "Index(['duns_number', 'atlas_location_uuid', 'label'], dtype='object')\n",
      "Done\n"
     ]
    }
   ],
   "source": [
    "loc_name = all_company_loc[['atlas_location_uuid']].groupby('atlas_location_uuid')[['atlas_location_uuid']].first().reset_index(drop=True)\n",
    "num_loc = len(loc_name)\n",
    "print(num_loc)\n",
    "# del all_company_loc\n",
    "\n",
    "dat2 = dat1.sample(frac=1).reset_index(drop=True)\n",
    "twin_dat = dat1.join(dat2, how='left', lsuffix='_left', rsuffix = '_right').reset_index(drop=True)\n",
    "\n",
    "twin_dat = twin_dat[twin_dat['atlas_location_uuid_left'] != twin_dat['atlas_location_uuid_right']]\n",
    "neg_dat1 = twin_dat[['duns_number_left', 'atlas_location_uuid_right']].reset_index(drop=True)\n",
    "neg_dat1 = neg_dat1.rename(\n",
    "                columns={'duns_number_left': 'duns_number', 'atlas_location_uuid_right': 'atlas_location_uuid',\n",
    "                         'label_left':'label','fold_left':'fold','groundtruth_left':'groundtruth',\n",
    "                        'city_left':'city'})\n",
    "neg_dat1 = neg_dat1[['duns_number','atlas_location_uuid']]\n",
    "neg_dat1['label'] = 0\n",
    "\n",
    "print(neg_dat1.columns)\n",
    "\n",
    "neg_dat2 = twin_dat[['duns_number_right', 'atlas_location_uuid_left']].reset_index(drop=True)\n",
    "neg_dat2 = neg_dat2.rename(\n",
    "                columns={'duns_number_right': 'duns_number', 'atlas_location_uuid_left': 'atlas_location_uuid',\n",
    "                        'label_left':'label','fold_left':'fold','groundtruth_left':'groundtruth',\n",
    "                        'city_left':'city'})\n",
    "neg_dat2 = neg_dat2[['duns_number','atlas_location_uuid']]\n",
    "neg_dat2['label'] = 0\n",
    "\n",
    "pos_dat = dat1[['duns_number', 'atlas_location_uuid', 'label']]\n",
    "# del dat1,dat2\n",
    "\n",
    "train_dat = pd.concat([pos_dat, neg_dat1,neg_dat2], axis=0)\n",
    "train_dat = train_dat.sample(frac=1).reset_index(drop=True)\n",
    "print('Done')"
   ]
  },
  {
   "cell_type": "code",
   "execution_count": 32,
   "metadata": {},
   "outputs": [
    {
     "name": "stdout",
     "output_type": "stream",
     "text": [
      "get train feat\n",
      "get test feat\n",
      "train normalization\n",
      "test normalization\n",
      "training\n"
     ]
    },
    {
     "name": "stderr",
     "output_type": "stream",
     "text": [
      "/Users/yefeichen/anaconda3/lib/python3.7/site-packages/sklearn/utils/validation.py:761: DataConversionWarning: A column-vector y was passed when a 1d array was expected. Please change the shape of y to (n_samples, ), for example using ravel().\n",
      "  y = column_or_1d(y, warn=True)\n"
     ]
    },
    {
     "name": "stdout",
     "output_type": "stream",
     "text": [
      "predicting\n",
      "roc curving\n",
      "0.6212124402087643\n",
      "Done\n"
     ]
    }
   ],
   "source": [
    "print('get train feat')\n",
    "trX = train_dat.merge(comp_feat,on='duns_number',how='left',suffixes=['','_right']).reset_index(drop=True)\n",
    "trX = trX.merge(loc_feat,on='atlas_location_uuid',how='left',suffixes=['','_right']).reset_index(drop=True)\n",
    "trX = trX.merge(ensemble_feat,on=['atlas_location_uuid','duns_number'],how='left',suffixes=['','_right']).reset_index(drop=True)\n",
    "trX = trX.fillna(0.5)\n",
    "list_col = list(comp_feat.columns)+list(loc_feat.columns)+list(ensemble_feat.columns)\n",
    "list_col = [col for col in list_col if col not in ['duns_number', 'atlas_location_uuid', 'label']]\n",
    "trY = trX[['label']].to_numpy()\n",
    "trX = trX[list_col].to_numpy()\n",
    "\n",
    "print('get test feat')\n",
    "ttX = all_pair_test[['duns_number','atlas_location_uuid']].merge(comp_feat,on='duns_number',how='left',suffixes=['','_right']).reset_index(drop=True)\n",
    "ttX = ttX.merge(loc_feat,on='atlas_location_uuid',how='left',suffixes=['','_right']).reset_index(drop=True)\n",
    "ttX = ttX.merge(ensemble_feat,on=['atlas_location_uuid','duns_number'],how='left',suffixes=['','_right']).reset_index(drop=True)\n",
    "ttX = ttX.fillna(0.5)\n",
    "list_col = list(comp_feat.columns)+list(loc_feat.columns)+list(ensemble_feat.columns)\n",
    "list_col = [col for col in list_col if col not in ['duns_number', 'atlas_location_uuid', 'label']]\n",
    "ttX = ttX[list_col].to_numpy()\n",
    "ttY = (all_pair_test['atlas_location_uuid'] == all_pair_test['groundtruth']).to_numpy() + 0\n",
    "# del all_pair_test\n",
    "\n",
    "# trX[:,-1] = 0\n",
    "# ttX[:,-1] = 0\n",
    "print('train normalization')\n",
    "trX = normalize(trX,axis=1)\n",
    "print('test normalization')\n",
    "ttX = normalize(ttX,axis=1)\n",
    "\n",
    "print('training')\n",
    "# clf = LR(random_state=0,fit_intercept=True,\n",
    "#          solver = 'lbfgs',class_weight='balanced',\n",
    "#          multi_class='ovr',max_iter=1e10).fit(trX,trY)\n",
    "clf = LR(random_state=0,fit_intercept=True,\n",
    "         solver = 'lbfgs',\n",
    "         multi_class='ovr',max_iter=1e10).fit(trX,trY)\n",
    "\n",
    "print('predicting')\n",
    "score_ttY = clf.predict_proba(ttX)[:,1]\n",
    "\n",
    "print('roc curving')\n",
    "fpr, tpr, roc_thresholds = roc_curve(ttY, score_ttY)\n",
    "roc_auc = auc(fpr,tpr)\n",
    "print(roc_auc)\n",
    "print('Done')"
   ]
  },
  {
   "cell_type": "code",
   "execution_count": 33,
   "metadata": {},
   "outputs": [],
   "source": [
    "del ttX,trX\n",
    "prediction = score_ttY.copy()\n",
    "groundtruth = ttY.copy()"
   ]
  },
  {
   "cell_type": "code",
   "execution_count": 34,
   "metadata": {},
   "outputs": [
    {
     "data": {
      "image/png": "[encoded data removed]",
      "text/plain": [
       "<Figure size 432x288 with 1 Axes>"
      ]
     },
     "metadata": {
      "needs_background": "light"
     },
     "output_type": "display_data"
    }
   ],
   "source": [
    "if Query_Company:\n",
    "    score_ttY = prediction.reshape(-1,num_loc)\n",
    "    ttY = groundtruth.reshape(-1,num_loc)\n",
    "else:\n",
    "    score_ttY = prediction.reshape(num_loc,-1)\n",
    "    ttY = groundtruth.reshape(num_loc,-1)\n",
    "    \n",
    "    \n",
    "topk = 1000\n",
    "step = int(topk / 10)\n",
    "topk_recall = topk_recall_score_all(pred=score_ttY, truth=ttY, topk=topk)\n",
    "\n",
    "\n",
    "# score_ttY = score_ttY.reshape(-1,num_loc)\n",
    "# # groundtruth = all_pair_test[['duns_number','groundtruth']].groupby(['duns_number','groundtruth'])[['groundtruth']].first().reset_index(drop=True).to_numpy()\n",
    "# # R_cat = loc_name.to_numpy().reshape(-1)\n",
    "# # topk_precision = calc_topk_acc_cat_all(score_ttY,groundtruth,R_cat,k=100)\n",
    "# ttY = ttY.reshape(-1,num_loc)\n",
    "# truth_cat = one_hot_2_idx_numpy(ttY)\n",
    "# R_cat = np.array(list(range(num_loc)))\n",
    "\n",
    "# topk = 1000\n",
    "# step = 100\n",
    "# topk_precision = calc_topk_acc_cat_all(score_ttY,truth_cat,R_cat,k=topk)\n",
    "\n",
    "\n",
    "\n",
    "x = list(range(1,topk+1))\n",
    "y = list(topk_recall.reshape(-1))\n",
    "plt.figure()\n",
    "plt.plot(x,y)\n",
    "\n",
    "plt.grid()\n",
    "\n",
    "for z in range(10,topk+1,step):\n",
    "    z = z - 1\n",
    "    plt.text(z, y[z], '%.4f' % y[z], ha='center', va= 'bottom',fontsize=9)\n",
    "\n",
    "plt.xlabel(\"topk\")\n",
    "plt.ylabel(\"recall\")\n",
    "plt.title(\"topk recall score curve of %s\"%cfile[ind_city])\n",
    "plt.show()\n"
   ]
  },
  {
   "cell_type": "code",
   "execution_count": 4,
   "metadata": {},
   "outputs": [],
   "source": [
    "def calc_topk_acc_cat_all(QRscore,y_truth_cat,R_cat,k=3):\n",
    "    \"\"\"\n",
    "    QRscore: similarity score matrix shape [Q,R]\n",
    "    y_truth: index(related with R) of truth label of Query\n",
    "    return top1-topk acc\n",
    "    \"\"\"\n",
    "    res = []\n",
    "    y_truth_cat = y_truth_cat.reshape(-1,1)\n",
    "    max_k_preds = QRscore.argsort(axis=1)[:, -k:][:, ::-1] #得到top-k max label\n",
    "    max_k_cat = R_cat[max_k_preds]\n",
    "    M = max_k_cat==y_truth_cat\n",
    "    for k in range(M.shape[1]):\n",
    "        match_array = np.logical_or.reduce(M[:,:k+1], axis=1) #得到匹配结果\n",
    "        topk_acc_score = match_array.sum() / match_array.shape[0]\n",
    "        res.append(topk_acc_score)\n",
    "    return res\n",
    "\n",
    "def one_hot_2_idx(y_one_hot):\n",
    "    \"\"\"\n",
    "    y_one_hot:FloatTensor shape:[batch_size, nCls]\n",
    "    y_idx: LongTensor shape:[batch_size,1]\n",
    "    \"\"\"\n",
    "    _,idx_mat = torch.max(y_one_hot,1,keepdim=False)\n",
    "    y_idx = idx_mat.view(-1,1)\n",
    "    return y_idx\n",
    "\n",
    "def one_hot_2_idx_numpy(y_one_hot):\n",
    "    \"\"\"\n",
    "    y_one_hot:FloatTensor shape:[batch_size, nCls]\n",
    "    y_idx: LongTensor shape:[batch_size,1]\n",
    "    \"\"\"\n",
    "    idx_mat = np.argmax(y_one_hot,1)\n",
    "    y_idx = idx_mat.reshape(-1,1)\n",
    "    return y_idx\n",
    "\n",
    "def topk_recall_score_all(pred,truth,topk=5):\n",
    "    \"\"\"\n",
    "    N: sample number\n",
    "    M: class number\n",
    "    pred [N,M] \n",
    "    truth [N,M]\n",
    "    large value of score means 1 in truth, while small value of score means 0 in truth.\n",
    "    return each topL(L<=topk) average recall_score \n",
    "    \"\"\"\n",
    "    N,M = pred.shape\n",
    "    _N,_M = truth.shape\n",
    "    assert( M==_M and N==_N )\n",
    "    #get rank of the predicted score, acsending\n",
    "    rank_of_pred = np.argsort(pred,axis=1)\n",
    "    #get topk ranked label\n",
    "    ranked_label = np.take_along_axis(truth,rank_of_pred,axis=1)[:,-1:-topk-1:-1]#[N,topk]\n",
    "    nTruth = truth.sum(axis=1).reshape(-1,1)#[N,1]\n",
    "    nTruth[nTruth<1]=1\n",
    "    ranked_label = ranked_label/nTruth\n",
    "    recall_score = np.cumsum(ranked_label.sum(axis=0).reshape(1,-1),axis=1)\n",
    "    # nTruth = truth.sum(axis=1).reshape(1,-1)\n",
    "    # nTop = np.array(range(topk)).reshape(1,topk) + 1\n",
    "    recall_score = (recall_score / N)\n",
    "    return recall_score"
   ]
  },
  {
   "cell_type": "code",
   "execution_count": 8,
   "metadata": {},
   "outputs": [
    {
     "name": "stdout",
     "output_type": "stream",
     "text": [
      "352\n",
      "Index(['duns_number', 'atlas_location_uuid', 'label'], dtype='object')\n",
      "Done\n"
     ]
    },
    {
     "name": "stderr",
     "output_type": "stream",
     "text": [
      "/Users/yefeichen/anaconda3/lib/python3.7/site-packages/sklearn/utils/validation.py:761: DataConversionWarning: A column-vector y was passed when a 1d array was expected. Please change the shape of y to (n_samples, ), for example using ravel().\n",
      "  y = column_or_1d(y, warn=True)\n"
     ]
    },
    {
     "name": "stdout",
     "output_type": "stream",
     "text": [
      "0.552907933401182\n",
      "Done\n",
      "352\n",
      "Index(['duns_number', 'atlas_location_uuid', 'label'], dtype='object')\n",
      "Done\n"
     ]
    },
    {
     "name": "stderr",
     "output_type": "stream",
     "text": [
      "/Users/yefeichen/anaconda3/lib/python3.7/site-packages/sklearn/utils/validation.py:761: DataConversionWarning: A column-vector y was passed when a 1d array was expected. Please change the shape of y to (n_samples, ), for example using ravel().\n",
      "  y = column_or_1d(y, warn=True)\n"
     ]
    },
    {
     "name": "stdout",
     "output_type": "stream",
     "text": [
      "0.544006404843891\n",
      "Done\n",
      "352\n",
      "Index(['duns_number', 'atlas_location_uuid', 'label'], dtype='object')\n",
      "Done\n"
     ]
    },
    {
     "name": "stderr",
     "output_type": "stream",
     "text": [
      "/Users/yefeichen/anaconda3/lib/python3.7/site-packages/sklearn/utils/validation.py:761: DataConversionWarning: A column-vector y was passed when a 1d array was expected. Please change the shape of y to (n_samples, ), for example using ravel().\n",
      "  y = column_or_1d(y, warn=True)\n"
     ]
    },
    {
     "name": "stdout",
     "output_type": "stream",
     "text": [
      "0.5410039662793719\n",
      "Done\n",
      "352\n",
      "Index(['duns_number', 'atlas_location_uuid', 'label'], dtype='object')\n",
      "Done\n"
     ]
    },
    {
     "name": "stderr",
     "output_type": "stream",
     "text": [
      "/Users/yefeichen/anaconda3/lib/python3.7/site-packages/sklearn/utils/validation.py:761: DataConversionWarning: A column-vector y was passed when a 1d array was expected. Please change the shape of y to (n_samples, ), for example using ravel().\n",
      "  y = column_or_1d(y, warn=True)\n"
     ]
    },
    {
     "name": "stdout",
     "output_type": "stream",
     "text": [
      "0.5549706039820648\n",
      "Done\n",
      "352\n",
      "Index(['duns_number', 'atlas_location_uuid', 'label'], dtype='object')\n",
      "Done\n"
     ]
    },
    {
     "name": "stderr",
     "output_type": "stream",
     "text": [
      "/Users/yefeichen/anaconda3/lib/python3.7/site-packages/sklearn/utils/validation.py:761: DataConversionWarning: A column-vector y was passed when a 1d array was expected. Please change the shape of y to (n_samples, ), for example using ravel().\n",
      "  y = column_or_1d(y, warn=True)\n"
     ]
    },
    {
     "name": "stdout",
     "output_type": "stream",
     "text": [
      "0.564710760052904\n",
      "Done\n",
      "352\n",
      "Index(['duns_number', 'atlas_location_uuid', 'label'], dtype='object')\n",
      "Done\n"
     ]
    },
    {
     "name": "stderr",
     "output_type": "stream",
     "text": [
      "/Users/yefeichen/anaconda3/lib/python3.7/site-packages/sklearn/utils/validation.py:761: DataConversionWarning: A column-vector y was passed when a 1d array was expected. Please change the shape of y to (n_samples, ), for example using ravel().\n",
      "  y = column_or_1d(y, warn=True)\n"
     ]
    },
    {
     "name": "stdout",
     "output_type": "stream",
     "text": [
      "0.5564641960305777\n",
      "Done\n",
      "352\n",
      "Index(['duns_number', 'atlas_location_uuid', 'label'], dtype='object')\n",
      "Done\n"
     ]
    },
    {
     "name": "stderr",
     "output_type": "stream",
     "text": [
      "/Users/yefeichen/anaconda3/lib/python3.7/site-packages/sklearn/utils/validation.py:761: DataConversionWarning: A column-vector y was passed when a 1d array was expected. Please change the shape of y to (n_samples, ), for example using ravel().\n",
      "  y = column_or_1d(y, warn=True)\n"
     ]
    },
    {
     "name": "stdout",
     "output_type": "stream",
     "text": [
      "0.5418813043514504\n",
      "Done\n",
      "352\n",
      "Index(['duns_number', 'atlas_location_uuid', 'label'], dtype='object')\n",
      "Done\n"
     ]
    },
    {
     "name": "stderr",
     "output_type": "stream",
     "text": [
      "/Users/yefeichen/anaconda3/lib/python3.7/site-packages/sklearn/utils/validation.py:761: DataConversionWarning: A column-vector y was passed when a 1d array was expected. Please change the shape of y to (n_samples, ), for example using ravel().\n",
      "  y = column_or_1d(y, warn=True)\n"
     ]
    },
    {
     "name": "stdout",
     "output_type": "stream",
     "text": [
      "0.5466248638291163\n",
      "Done\n",
      "352\n",
      "Index(['duns_number', 'atlas_location_uuid', 'label'], dtype='object')\n",
      "Done\n"
     ]
    },
    {
     "name": "stderr",
     "output_type": "stream",
     "text": [
      "/Users/yefeichen/anaconda3/lib/python3.7/site-packages/sklearn/utils/validation.py:761: DataConversionWarning: A column-vector y was passed when a 1d array was expected. Please change the shape of y to (n_samples, ), for example using ravel().\n",
      "  y = column_or_1d(y, warn=True)\n"
     ]
    },
    {
     "name": "stdout",
     "output_type": "stream",
     "text": [
      "0.5315319618760701\n",
      "Done\n",
      "352\n",
      "Index(['duns_number', 'atlas_location_uuid', 'label'], dtype='object')\n",
      "Done\n"
     ]
    },
    {
     "name": "stderr",
     "output_type": "stream",
     "text": [
      "/Users/yefeichen/anaconda3/lib/python3.7/site-packages/sklearn/utils/validation.py:761: DataConversionWarning: A column-vector y was passed when a 1d array was expected. Please change the shape of y to (n_samples, ), for example using ravel().\n",
      "  y = column_or_1d(y, warn=True)\n"
     ]
    },
    {
     "name": "stdout",
     "output_type": "stream",
     "text": [
      "0.5171374166615634\n",
      "Done\n"
     ]
    }
   ],
   "source": [
    "best_auc = 0\n",
    "for lp in range(10):\n",
    "    loc_name = all_company_loc[['atlas_location_uuid']].groupby('atlas_location_uuid')[['atlas_location_uuid']].first().reset_index(drop=True)\n",
    "    num_loc = len(loc_name)\n",
    "    print(num_loc)\n",
    "    # del all_company_loc\n",
    "\n",
    "    dat2 = dat1.sample(frac=1).reset_index(drop=True)\n",
    "    twin_dat = dat1.join(dat2, how='left', lsuffix='_left', rsuffix = '_right').reset_index(drop=True)\n",
    "\n",
    "    twin_dat = twin_dat[twin_dat['atlas_location_uuid_left'] != twin_dat['atlas_location_uuid_right']]\n",
    "    neg_dat1 = twin_dat[['duns_number_left', 'atlas_location_uuid_right']].reset_index(drop=True)\n",
    "    neg_dat1 = neg_dat1.rename(\n",
    "                    columns={'duns_number_left': 'duns_number', 'atlas_location_uuid_right': 'atlas_location_uuid',\n",
    "                             'label_left':'label','fold_left':'fold','groundtruth_left':'groundtruth',\n",
    "                            'city_left':'city'})\n",
    "    neg_dat1 = neg_dat1[['duns_number','atlas_location_uuid']]\n",
    "    neg_dat1['label'] = 0\n",
    "\n",
    "    print(neg_dat1.columns)\n",
    "\n",
    "    # neg_dat2 = twin_dat[['duns_number_right', 'atlas_location_uuid_left']].reset_index(drop=True)\n",
    "    # neg_dat2 = neg_dat2.rename(\n",
    "    #                 columns={'duns_number_right': 'duns_number', 'atlas_location_uuid_left': 'atlas_location_uuid'})\n",
    "    # neg_dat2 = neg_dat2[['duns_number','atlas_location_uuid']]\n",
    "    # neg_dat2['label'] = 0\n",
    "\n",
    "    pos_dat = dat1[['duns_number', 'atlas_location_uuid', 'label']]\n",
    "    # del dat1,dat2\n",
    "\n",
    "    train_dat = pd.concat([pos_dat, neg_dat1], axis=0)\n",
    "    train_dat = train_dat.sample(frac=1).reset_index(drop=True)\n",
    "    print('Done')\n",
    "    trX = train_dat.merge(comp_feat,on='duns_number',how='left',suffixes=['','_right']).reset_index(drop=True)\n",
    "    trX = trX.merge(loc_feat,on='atlas_location_uuid',how='left',suffixes=['','_right']).reset_index(drop=True)\n",
    "    trX = trX.merge(ensemble_feat,on=['atlas_location_uuid','duns_number'],how='left',suffixes=['','_right']).reset_index(drop=True)\n",
    "    list_col = list(comp_feat.columns)+list(loc_feat.columns)+list(ensemble_feat.columns)\n",
    "    list_col = [col for col in list_col if col not in ['duns_number', 'atlas_location_uuid', 'label']]\n",
    "    trY = trX[['label']].to_numpy()\n",
    "#     trX['sim_score'] = 0\n",
    "    trX = trX[list_col].to_numpy()\n",
    "\n",
    "    ttX = all_pair_test[['duns_number','atlas_location_uuid']].merge(comp_feat,on='duns_number',how='left',suffixes=['','_right']).reset_index(drop=True)\n",
    "    ttX = ttX.merge(loc_feat,on='atlas_location_uuid',how='left',suffixes=['','_right']).reset_index(drop=True)\n",
    "    ttX = ttX.merge(ensemble_feat,on=['atlas_location_uuid','duns_number'],how='left',suffixes=['','_right']).reset_index(drop=True)\n",
    "    list_col = list(comp_feat.columns)+list(loc_feat.columns)+list(ensemble_feat.columns)\n",
    "    list_col = [col for col in list_col if col not in ['duns_number', 'atlas_location_uuid', 'label']]\n",
    "#     ttX['sim_score'] = 0\n",
    "    ttX = ttX[list_col].to_numpy()\n",
    "    ttY = (all_pair_test['atlas_location_uuid'] == all_pair_test['groundtruth']).to_numpy() + 0\n",
    "    # del all_pair_test\n",
    "\n",
    "    clf = LR(random_state=0,fit_intercept=True,\n",
    "             solver = 'lbfgs',class_weight='balanced',\n",
    "             multi_class='ovr',max_iter=1e10).fit(trX,trY)\n",
    "\n",
    "    score_ttY = clf.predict_proba(ttX)[:,1]\n",
    "\n",
    "\n",
    "    fpr, tpr, roc_thresholds = roc_curve(ttY, score_ttY)\n",
    "    roc_auc = auc(fpr,tpr)\n",
    "    print(roc_auc)\n",
    "    print('Done')\n",
    "    if roc_auc > best_auc:\n",
    "        best_clf = clf\n",
    "    "
   ]
  },
  {
   "cell_type": "code",
   "execution_count": 9,
   "metadata": {},
   "outputs": [
    {
     "data": {
      "image/png": "[encoded data removed]",
      "text/plain": [
       "<Figure size 432x288 with 1 Axes>"
      ]
     },
     "metadata": {
      "needs_background": "light"
     },
     "output_type": "display_data"
    }
   ],
   "source": [
    "score_ttY = best_clf.predict_proba(ttX)[:,1]\n",
    "\n",
    "\n",
    "fpr, tpr, roc_thresholds = roc_curve(ttY, score_ttY)\n",
    "roc_auc = auc(fpr,tpr)\n",
    "\n",
    "score_ttY = score_ttY.reshape(-1,num_loc)\n",
    "# groundtruth = all_pair_test[['duns_number','groundtruth']].groupby(['duns_number','groundtruth'])[['groundtruth']].first().reset_index(drop=True).to_numpy()\n",
    "# R_cat = loc_name.to_numpy().reshape(-1)\n",
    "# topk_precision = calc_topk_acc_cat_all(score_ttY,groundtruth,R_cat,k=100)\n",
    "ttY = ttY.reshape(-1,num_loc)\n",
    "truth_cat = one_hot_2_idx_numpy(ttY)\n",
    "R_cat = np.array(list(range(num_loc)))\n",
    "\n",
    "topk = 100\n",
    "topk_precision = calc_topk_acc_cat_all(score_ttY,truth_cat,R_cat,k=topk)\n",
    "\n",
    "\n",
    "\n",
    "x = list(range(1,topk+1))\n",
    "y = list(topk_precision)\n",
    "plt.figure()\n",
    "plt.plot(x,y)\n",
    "\n",
    "plt.grid()\n",
    "\n",
    "for z in range(10,topk+1,10):\n",
    "    z = z - 1\n",
    "    plt.text(z, y[z], '%.4f' % y[z], ha='center', va= 'bottom',fontsize=9)\n",
    "\n",
    "plt.xlabel(\"topk\")\n",
    "plt.ylabel(\"accuracy\")\n",
    "plt.title(\"topk accuracy curve of %s\"%cfile[ind_city])\n",
    "plt.show()\n"
   ]
  },
  {
   "cell_type": "code",
   "execution_count": 3,
   "metadata": {},
   "outputs": [
    {
     "data": {
      "text/html": [
       "<div>\n",
       "<style scoped>\n",
       "    .dataframe tbody tr th:only-of-type {\n",
       "        vertical-align: middle;\n",
       "    }\n",
       "\n",
       "    .dataframe tbody tr th {\n",
       "        vertical-align: top;\n",
       "    }\n",
       "\n",
       "    .dataframe thead th {\n",
       "        text-align: right;\n",
       "    }\n",
       "</style>\n",
       "<table border=\"1\" class=\"dataframe\">\n",
       "  <thead>\n",
       "    <tr style=\"text-align: right;\">\n",
       "      <th></th>\n",
       "      <th>duns_number</th>\n",
       "      <th>atlas_location_uuid</th>\n",
       "      <th>label</th>\n",
       "      <th>fold</th>\n",
       "      <th>groundtruth</th>\n",
       "      <th>city</th>\n",
       "    </tr>\n",
       "  </thead>\n",
       "  <tbody>\n",
       "    <tr>\n",
       "      <th>0</th>\n",
       "      <td>2127360.0</td>\n",
       "      <td>003fd16c-0dee-24a1-1adf-0b47d6120f3d</td>\n",
       "      <td>NaN</td>\n",
       "      <td>2</td>\n",
       "      <td>7a687b49-1055-24f6-ae84-e390438fe3c4</td>\n",
       "      <td>0</td>\n",
       "    </tr>\n",
       "    <tr>\n",
       "      <th>1</th>\n",
       "      <td>2127360.0</td>\n",
       "      <td>0060ef47-b121-60b9-1983-02ebdb144dcf</td>\n",
       "      <td>NaN</td>\n",
       "      <td>2</td>\n",
       "      <td>7a687b49-1055-24f6-ae84-e390438fe3c4</td>\n",
       "      <td>0</td>\n",
       "    </tr>\n",
       "    <tr>\n",
       "      <th>2</th>\n",
       "      <td>2127360.0</td>\n",
       "      <td>0084ae4b-c24c-0795-d1e6-a4f58444d39b</td>\n",
       "      <td>NaN</td>\n",
       "      <td>2</td>\n",
       "      <td>7a687b49-1055-24f6-ae84-e390438fe3c4</td>\n",
       "      <td>0</td>\n",
       "    </tr>\n",
       "    <tr>\n",
       "      <th>3</th>\n",
       "      <td>2127360.0</td>\n",
       "      <td>00a68dc6-f955-c581-9a54-64404bb0ef6a</td>\n",
       "      <td>NaN</td>\n",
       "      <td>2</td>\n",
       "      <td>7a687b49-1055-24f6-ae84-e390438fe3c4</td>\n",
       "      <td>0</td>\n",
       "    </tr>\n",
       "    <tr>\n",
       "      <th>4</th>\n",
       "      <td>2127360.0</td>\n",
       "      <td>01109439-6b76-0fc9-2d96-cfdb79708a80</td>\n",
       "      <td>NaN</td>\n",
       "      <td>2</td>\n",
       "      <td>7a687b49-1055-24f6-ae84-e390438fe3c4</td>\n",
       "      <td>0</td>\n",
       "    </tr>\n",
       "  </tbody>\n",
       "</table>\n",
       "</div>"
      ],
      "text/plain": [
       "   duns_number                   atlas_location_uuid  label  fold  \\\n",
       "0    2127360.0  003fd16c-0dee-24a1-1adf-0b47d6120f3d    NaN     2   \n",
       "1    2127360.0  0060ef47-b121-60b9-1983-02ebdb144dcf    NaN     2   \n",
       "2    2127360.0  0084ae4b-c24c-0795-d1e6-a4f58444d39b    NaN     2   \n",
       "3    2127360.0  00a68dc6-f955-c581-9a54-64404bb0ef6a    NaN     2   \n",
       "4    2127360.0  01109439-6b76-0fc9-2d96-cfdb79708a80    NaN     2   \n",
       "\n",
       "                            groundtruth  city  \n",
       "0  7a687b49-1055-24f6-ae84-e390438fe3c4     0  \n",
       "1  7a687b49-1055-24f6-ae84-e390438fe3c4     0  \n",
       "2  7a687b49-1055-24f6-ae84-e390438fe3c4     0  \n",
       "3  7a687b49-1055-24f6-ae84-e390438fe3c4     0  \n",
       "4  7a687b49-1055-24f6-ae84-e390438fe3c4     0  "
      ]
     },
     "execution_count": 3,
     "metadata": {},
     "output_type": "execute_result"
    }
   ],
   "source": [
    "all_pair_test.head()"
   ]
  },
  {
   "cell_type": "code",
   "execution_count": 17,
   "metadata": {},
   "outputs": [],
   "source": [
    "all_pair_test = all_pair_test.sort_values(by=['atlas_location_uuid']).reset_index(drop=True)"
   ]
  },
  {
   "cell_type": "code",
   "execution_count": 18,
   "metadata": {},
   "outputs": [
    {
     "data": {
      "text/html": [
       "<div>\n",
       "<style scoped>\n",
       "    .dataframe tbody tr th:only-of-type {\n",
       "        vertical-align: middle;\n",
       "    }\n",
       "\n",
       "    .dataframe tbody tr th {\n",
       "        vertical-align: top;\n",
       "    }\n",
       "\n",
       "    .dataframe thead th {\n",
       "        text-align: right;\n",
       "    }\n",
       "</style>\n",
       "<table border=\"1\" class=\"dataframe\">\n",
       "  <thead>\n",
       "    <tr style=\"text-align: right;\">\n",
       "      <th></th>\n",
       "      <th>duns_number</th>\n",
       "      <th>atlas_location_uuid</th>\n",
       "      <th>label</th>\n",
       "      <th>fold</th>\n",
       "      <th>groundtruth</th>\n",
       "      <th>city</th>\n",
       "    </tr>\n",
       "  </thead>\n",
       "  <tbody>\n",
       "    <tr>\n",
       "      <th>0</th>\n",
       "      <td>2127360.0</td>\n",
       "      <td>003fd16c-0dee-24a1-1adf-0b47d6120f3d</td>\n",
       "      <td>NaN</td>\n",
       "      <td>2</td>\n",
       "      <td>7a687b49-1055-24f6-ae84-e390438fe3c4</td>\n",
       "      <td>0</td>\n",
       "    </tr>\n",
       "    <tr>\n",
       "      <th>1</th>\n",
       "      <td>116055488.0</td>\n",
       "      <td>003fd16c-0dee-24a1-1adf-0b47d6120f3d</td>\n",
       "      <td>NaN</td>\n",
       "      <td>2</td>\n",
       "      <td>0cd6a652-ed1f-7811-192d-b1f700c8f0e7</td>\n",
       "      <td>0</td>\n",
       "    </tr>\n",
       "    <tr>\n",
       "      <th>2</th>\n",
       "      <td>33493534.0</td>\n",
       "      <td>003fd16c-0dee-24a1-1adf-0b47d6120f3d</td>\n",
       "      <td>NaN</td>\n",
       "      <td>2</td>\n",
       "      <td>e0912f72-3407-15f8-2772-65f104acd4b7</td>\n",
       "      <td>0</td>\n",
       "    </tr>\n",
       "    <tr>\n",
       "      <th>3</th>\n",
       "      <td>116937846.0</td>\n",
       "      <td>003fd16c-0dee-24a1-1adf-0b47d6120f3d</td>\n",
       "      <td>NaN</td>\n",
       "      <td>2</td>\n",
       "      <td>d3d3cccf-2f3c-18dc-0b00-69151a62a0fe</td>\n",
       "      <td>0</td>\n",
       "    </tr>\n",
       "    <tr>\n",
       "      <th>4</th>\n",
       "      <td>80999593.0</td>\n",
       "      <td>003fd16c-0dee-24a1-1adf-0b47d6120f3d</td>\n",
       "      <td>NaN</td>\n",
       "      <td>2</td>\n",
       "      <td>5246fec2-c62b-11e9-997c-3af9d322409d</td>\n",
       "      <td>0</td>\n",
       "    </tr>\n",
       "  </tbody>\n",
       "</table>\n",
       "</div>"
      ],
      "text/plain": [
       "   duns_number                   atlas_location_uuid  label  fold  \\\n",
       "0    2127360.0  003fd16c-0dee-24a1-1adf-0b47d6120f3d    NaN     2   \n",
       "1  116055488.0  003fd16c-0dee-24a1-1adf-0b47d6120f3d    NaN     2   \n",
       "2   33493534.0  003fd16c-0dee-24a1-1adf-0b47d6120f3d    NaN     2   \n",
       "3  116937846.0  003fd16c-0dee-24a1-1adf-0b47d6120f3d    NaN     2   \n",
       "4   80999593.0  003fd16c-0dee-24a1-1adf-0b47d6120f3d    NaN     2   \n",
       "\n",
       "                            groundtruth  city  \n",
       "0  7a687b49-1055-24f6-ae84-e390438fe3c4     0  \n",
       "1  0cd6a652-ed1f-7811-192d-b1f700c8f0e7     0  \n",
       "2  e0912f72-3407-15f8-2772-65f104acd4b7     0  \n",
       "3  d3d3cccf-2f3c-18dc-0b00-69151a62a0fe     0  \n",
       "4  5246fec2-c62b-11e9-997c-3af9d322409d     0  "
      ]
     },
     "execution_count": 18,
     "metadata": {},
     "output_type": "execute_result"
    }
   ],
   "source": [
    "all_pair_test.head()"
   ]
  },
  {
   "cell_type": "code",
   "execution_count": 43,
   "metadata": {},
   "outputs": [
    {
     "data": {
      "text/plain": [
       "array([1., 1., 1.])"
      ]
     },
     "execution_count": 43,
     "metadata": {},
     "output_type": "execute_result"
    }
   ],
   "source": [
    "(y**2).sum(axis=1)"
   ]
  },
  {
   "cell_type": "code",
   "execution_count": 11,
   "metadata": {},
   "outputs": [
    {
     "name": "stdout",
     "output_type": "stream",
     "text": [
      "437888\n"
     ]
    }
   ],
   "source": [
    "#data load\n",
    "datapath = '/Users/yefeichen/Database/location_recommender_system/'\n",
    "testfile = 'train_val_test_location_company_all.csv'\n",
    "\n",
    "ind_city = 0\n",
    "\n",
    "all_pair = pd.read_csv(testfile,index_col=0)\n",
    "all_pair = all_pair[all_pair['city']==ind_city]\n",
    "\n",
    "all_pair_test = all_pair[all_pair['fold']==2].reset_index(drop=True)\n",
    "dat1 = all_pair[all_pair['fold']==0]\n",
    "\n",
    "print(len(all_pair_test))"
   ]
  },
  {
   "cell_type": "code",
   "execution_count": 8,
   "metadata": {},
   "outputs": [
    {
     "name": "stdout",
     "output_type": "stream",
     "text": [
      "20032\n"
     ]
    }
   ],
   "source": [
    "print(len(dat1))"
   ]
  },
  {
   "cell_type": "code",
   "execution_count": 12,
   "metadata": {},
   "outputs": [
    {
     "data": {
      "text/html": [
       "<div>\n",
       "<style scoped>\n",
       "    .dataframe tbody tr th:only-of-type {\n",
       "        vertical-align: middle;\n",
       "    }\n",
       "\n",
       "    .dataframe tbody tr th {\n",
       "        vertical-align: top;\n",
       "    }\n",
       "\n",
       "    .dataframe thead th {\n",
       "        text-align: right;\n",
       "    }\n",
       "</style>\n",
       "<table border=\"1\" class=\"dataframe\">\n",
       "  <thead>\n",
       "    <tr style=\"text-align: right;\">\n",
       "      <th></th>\n",
       "      <th>duns_number</th>\n",
       "      <th>atlas_location_uuid</th>\n",
       "      <th>label</th>\n",
       "      <th>fold</th>\n",
       "      <th>groundtruth</th>\n",
       "      <th>city</th>\n",
       "    </tr>\n",
       "  </thead>\n",
       "  <tbody>\n",
       "    <tr>\n",
       "      <th>0</th>\n",
       "      <td>47209759.0</td>\n",
       "      <td>ab4f2b5f-d96c-a653-4911-9909c1eada2d</td>\n",
       "      <td>1.0</td>\n",
       "      <td>0</td>\n",
       "      <td>NaN</td>\n",
       "      <td>0</td>\n",
       "    </tr>\n",
       "    <tr>\n",
       "      <th>1</th>\n",
       "      <td>79819894.0</td>\n",
       "      <td>b89c3096-5ebc-7491-2de8-79f22da62dbf</td>\n",
       "      <td>1.0</td>\n",
       "      <td>0</td>\n",
       "      <td>NaN</td>\n",
       "      <td>0</td>\n",
       "    </tr>\n",
       "    <tr>\n",
       "      <th>2</th>\n",
       "      <td>104144451.0</td>\n",
       "      <td>35e7d0aa-2bae-a744-8e38-4bb1d05df06a</td>\n",
       "      <td>1.0</td>\n",
       "      <td>0</td>\n",
       "      <td>NaN</td>\n",
       "      <td>0</td>\n",
       "    </tr>\n",
       "    <tr>\n",
       "      <th>3</th>\n",
       "      <td>34152094.0</td>\n",
       "      <td>ebf12cb7-4e96-e67e-6378-3d93c534ef27</td>\n",
       "      <td>1.0</td>\n",
       "      <td>0</td>\n",
       "      <td>NaN</td>\n",
       "      <td>0</td>\n",
       "    </tr>\n",
       "    <tr>\n",
       "      <th>4</th>\n",
       "      <td>25198688.0</td>\n",
       "      <td>09ffac1a-62f6-d5b6-20ff-2499465b65c6</td>\n",
       "      <td>1.0</td>\n",
       "      <td>0</td>\n",
       "      <td>NaN</td>\n",
       "      <td>0</td>\n",
       "    </tr>\n",
       "  </tbody>\n",
       "</table>\n",
       "</div>"
      ],
      "text/plain": [
       "   duns_number                   atlas_location_uuid  label  fold groundtruth  \\\n",
       "0   47209759.0  ab4f2b5f-d96c-a653-4911-9909c1eada2d    1.0     0         NaN   \n",
       "1   79819894.0  b89c3096-5ebc-7491-2de8-79f22da62dbf    1.0     0         NaN   \n",
       "2  104144451.0  35e7d0aa-2bae-a744-8e38-4bb1d05df06a    1.0     0         NaN   \n",
       "3   34152094.0  ebf12cb7-4e96-e67e-6378-3d93c534ef27    1.0     0         NaN   \n",
       "4   25198688.0  09ffac1a-62f6-d5b6-20ff-2499465b65c6    1.0     0         NaN   \n",
       "\n",
       "   city  \n",
       "0     0  \n",
       "1     0  \n",
       "2     0  \n",
       "3     0  \n",
       "4     0  "
      ]
     },
     "execution_count": 12,
     "metadata": {},
     "output_type": "execute_result"
    }
   ],
   "source": [
    "all_pair.head()"
   ]
  },
  {
   "cell_type": "code",
   "execution_count": null,
   "metadata": {},
   "outputs": [],
   "source": []
  }
 ],
 "metadata": {
  "kernelspec": {
   "display_name": "Python 3",
   "language": "python",
   "name": "python3"
  },
  "language_info": {
   "codemirror_mode": {
    "name": "ipython",
    "version": 3
   },
   "file_extension": ".py",
   "mimetype": "text/x-python",
   "name": "python",
   "nbconvert_exporter": "python",
   "pygments_lexer": "ipython3",
   "version": "3.7.3"
  }
 },
 "nbformat": 4,
 "nbformat_minor": 2
}
