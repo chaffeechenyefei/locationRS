{
 "cells": [
  {
   "cell_type": "code",
   "execution_count": 1,
   "metadata": {},
   "outputs": [],
   "source": [
    "#describe each location with companies in side\n",
    "import pandas as pd\n",
    "import numpy as np\n",
    "import os\n",
    "import pygeohash as pgh\n",
    "from math import *\n",
    "from sklearn.metrics.pairwise import euclidean_distances\n",
    "from sklearn.metrics import precision_recall_curve, roc_curve, auc\n",
    "import random\n",
    "import matplotlib.pyplot as plt\n",
    "from sklearn.preprocessing import normalize\n",
    "from sklearn.linear_model import LogisticRegression as LR\n",
    "pjoin = os.path.join\n"
   ]
  },
  {
   "cell_type": "code",
   "execution_count": 6,
   "metadata": {},
   "outputs": [
    {
     "name": "stdout",
     "output_type": "stream",
     "text": [
      "Done\n"
     ]
    }
   ],
   "source": [
    "#data load\n",
    "datapath = '/Users/yefeichen/Database/location_recommender_system/'\n",
    "cfile = ['dnb_pa.csv','dnb_sf.csv','dnb_sj.csv']\n",
    "lfile = 'location_scorecard_190912.csv'\n",
    "clfile = ['PA.csv','SF.csv','SJ.csv']\n",
    "lfile_app = ['PA_comp_loc_score.csv','SF_comp_loc_score.csv','SJ_comp_loc_score.csv']\n",
    "testfile = 'train_val_test_location_company_all.csv'\n",
    "\n",
    "ind_city = 2\n",
    "\n",
    "comp_feat = pd.read_csv('company_feat.csv',index_col=0)\n",
    "loc_feat = pd.read_csv('location_feat.csv',index_col=0)\n",
    "all_pair = pd.read_csv(testfile,index_col=0)\n",
    "all_pair = all_pair[all_pair['city']==ind_city]\n",
    "\n",
    "ensemble_feat = pd.read_csv(lfile_app[ind_city])\n",
    "\n",
    "all_pair_test = all_pair[all_pair['fold']==2].reset_index(drop=True)\n",
    "dat1 = all_pair[all_pair['fold']==0]\n",
    "\n",
    "all_company_loc = pd.read_csv(pjoin(datapath,clfile[ind_city]))[['atlas_location_uuid','duns_number']]\n",
    "\n",
    "print('Done')"
   ]
  },
  {
   "cell_type": "code",
   "execution_count": 4,
   "metadata": {},
   "outputs": [],
   "source": [
    "all_pair = pd.read_csv(testfile,index_col=0)"
   ]
  },
  {
   "cell_type": "code",
   "execution_count": 5,
   "metadata": {},
   "outputs": [
    {
     "data": {
      "text/plain": [
       "19840821"
      ]
     },
     "execution_count": 5,
     "metadata": {},
     "output_type": "execute_result"
    }
   ],
   "source": []
  },
  {
   "cell_type": "code",
   "execution_count": 7,
   "metadata": {},
   "outputs": [
    {
     "name": "stdout",
     "output_type": "stream",
     "text": [
      "614\n",
      "Index(['duns_number', 'atlas_location_uuid', 'label'], dtype='object')\n",
      "Done\n"
     ]
    }
   ],
   "source": [
    "loc_name = all_company_loc[['atlas_location_uuid']].groupby('atlas_location_uuid')[['atlas_location_uuid']].first().reset_index(drop=True)\n",
    "num_loc = len(loc_name)\n",
    "print(num_loc)\n",
    "# del all_company_loc\n",
    "\n",
    "dat2 = dat1.sample(frac=1).reset_index(drop=True)\n",
    "twin_dat = dat1.join(dat2, how='left', lsuffix='_left', rsuffix = '_right').reset_index(drop=True)\n",
    "\n",
    "twin_dat = twin_dat[twin_dat['atlas_location_uuid_left'] != twin_dat['atlas_location_uuid_right']]\n",
    "neg_dat1 = twin_dat[['duns_number_left', 'atlas_location_uuid_right']].reset_index(drop=True)\n",
    "neg_dat1 = neg_dat1.rename(\n",
    "                columns={'duns_number_left': 'duns_number', 'atlas_location_uuid_right': 'atlas_location_uuid',\n",
    "                         'label_left':'label','fold_left':'fold','groundtruth_left':'groundtruth',\n",
    "                        'city_left':'city'})\n",
    "neg_dat1 = neg_dat1[['duns_number','atlas_location_uuid']]\n",
    "neg_dat1['label'] = 0\n",
    "\n",
    "print(neg_dat1.columns)\n",
    "\n",
    "neg_dat2 = twin_dat[['duns_number_right', 'atlas_location_uuid_left']].reset_index(drop=True)\n",
    "neg_dat2 = neg_dat2.rename(\n",
    "                columns={'duns_number_right': 'duns_number', 'atlas_location_uuid_left': 'atlas_location_uuid',\n",
    "                        'label_left':'label','fold_left':'fold','groundtruth_left':'groundtruth',\n",
    "                        'city_left':'city'})\n",
    "neg_dat2 = neg_dat2[['duns_number','atlas_location_uuid']]\n",
    "neg_dat2['label'] = 0\n",
    "\n",
    "pos_dat = dat1[['duns_number', 'atlas_location_uuid', 'label']]\n",
    "# del dat1,dat2\n",
    "\n",
    "train_dat = pd.concat([pos_dat, neg_dat1,neg_dat2], axis=0)\n",
    "train_dat = train_dat.sample(frac=1).reset_index(drop=True)\n",
    "print('Done')"
   ]
  },
  {
   "cell_type": "code",
   "execution_count": 8,
   "metadata": {},
   "outputs": [
    {
     "name": "stderr",
     "output_type": "stream",
     "text": [
      "/Users/yefeichen/anaconda3/lib/python3.7/site-packages/sklearn/utils/validation.py:761: DataConversionWarning: A column-vector y was passed when a 1d array was expected. Please change the shape of y to (n_samples, ), for example using ravel().\n",
      "  y = column_or_1d(y, warn=True)\n"
     ]
    },
    {
     "name": "stdout",
     "output_type": "stream",
     "text": [
      "0.7086077239230401\n",
      "Done\n"
     ]
    }
   ],
   "source": [
    "trX = train_dat.merge(comp_feat,on='duns_number',how='left',suffixes=['','_right']).reset_index(drop=True)\n",
    "trX = trX.merge(loc_feat,on='atlas_location_uuid',how='left',suffixes=['','_right']).reset_index(drop=True)\n",
    "trX = trX.merge(ensemble_feat,on=['atlas_location_uuid','duns_number'],how='left',suffixes=['','_right']).reset_index(drop=True)\n",
    "list_col = list(comp_feat.columns)+list(loc_feat.columns)+list(ensemble_feat.columns)\n",
    "list_col = [col for col in list_col if col not in ['duns_number', 'atlas_location_uuid', 'label']]\n",
    "trY = trX[['label']].to_numpy()\n",
    "trX = trX[list_col].to_numpy()\n",
    "\n",
    "ttX = all_pair_test[['duns_number','atlas_location_uuid']].merge(comp_feat,on='duns_number',how='left',suffixes=['','_right']).reset_index(drop=True)\n",
    "ttX = ttX.merge(loc_feat,on='atlas_location_uuid',how='left',suffixes=['','_right']).reset_index(drop=True)\n",
    "ttX = ttX.merge(ensemble_feat,on=['atlas_location_uuid','duns_number'],how='left',suffixes=['','_right']).reset_index(drop=True)\n",
    "list_col = list(comp_feat.columns)+list(loc_feat.columns)+list(ensemble_feat.columns)\n",
    "list_col = [col for col in list_col if col not in ['duns_number', 'atlas_location_uuid', 'label']]\n",
    "ttX = ttX[list_col].to_numpy()\n",
    "ttY = (all_pair_test['atlas_location_uuid'] == all_pair_test['groundtruth']).to_numpy() + 0\n",
    "# del all_pair_test\n",
    "\n",
    "# trX[:,-1] = 0\n",
    "# ttX[:,-1] = 0\n",
    "\n",
    "trX = normalize(trX,axis=1)\n",
    "ttX = normalize(ttX,axis=1)\n",
    "\n",
    "# clf = LR(random_state=0,fit_intercept=True,\n",
    "#          solver = 'lbfgs',class_weight='balanced',\n",
    "#          multi_class='ovr',max_iter=1e10).fit(trX,trY)\n",
    "clf = LR(random_state=0,fit_intercept=True,\n",
    "         solver = 'lbfgs',\n",
    "         multi_class='ovr',max_iter=1e10).fit(trX,trY)\n",
    "\n",
    "score_ttY = clf.predict_proba(ttX)[:,1]\n",
    "\n",
    "\n",
    "fpr, tpr, roc_thresholds = roc_curve(ttY, score_ttY)\n",
    "roc_auc = auc(fpr,tpr)\n",
    "print(roc_auc)\n",
    "print('Done')"
   ]
  },
  {
   "cell_type": "code",
   "execution_count": 13,
   "metadata": {},
   "outputs": [
    {
     "data": {
      "image/png": "[encoded data removed]",
      "text/plain": [
       "<Figure size 432x288 with 1 Axes>"
      ]
     },
     "metadata": {
      "needs_background": "light"
     },
     "output_type": "display_data"
    }
   ],
   "source": [
    "score_ttY = score_ttY.reshape(-1,num_loc)\n",
    "# groundtruth = all_pair_test[['duns_number','groundtruth']].groupby(['duns_number','groundtruth'])[['groundtruth']].first().reset_index(drop=True).to_numpy()\n",
    "# R_cat = loc_name.to_numpy().reshape(-1)\n",
    "# topk_precision = calc_topk_acc_cat_all(score_ttY,groundtruth,R_cat,k=100)\n",
    "ttY = ttY.reshape(-1,num_loc)\n",
    "truth_cat = one_hot_2_idx_numpy(ttY)\n",
    "R_cat = np.array(list(range(num_loc)))\n",
    "\n",
    "topk = 600\n",
    "step = 50\n",
    "topk_precision = calc_topk_acc_cat_all(score_ttY,truth_cat,R_cat,k=topk)\n",
    "\n",
    "\n",
    "\n",
    "x = list(range(1,topk+1))\n",
    "y = list(topk_precision)\n",
    "plt.figure()\n",
    "plt.plot(x,y)\n",
    "\n",
    "plt.grid()\n",
    "\n",
    "for z in range(10,topk+1,step):\n",
    "    z = z - 1\n",
    "    plt.text(z, y[z], '%.4f' % y[z], ha='center', va= 'bottom',fontsize=9)\n",
    "\n",
    "plt.xlabel(\"topk\")\n",
    "plt.ylabel(\"accuracy\")\n",
    "plt.title(\"topk accuracy curve of %s\"%cfile[ind_city])\n",
    "plt.show()\n"
   ]
  },
  {
   "cell_type": "code",
   "execution_count": 10,
   "metadata": {},
   "outputs": [],
   "source": [
    "def calc_topk_acc_cat_all(QRscore,y_truth_cat,R_cat,k=3):\n",
    "    \"\"\"\n",
    "    QRscore: similarity score matrix shape [Q,R]\n",
    "    y_truth: index(related with R) of truth label of Query\n",
    "    return top1-topk acc\n",
    "    \"\"\"\n",
    "    res = []\n",
    "    y_truth_cat = y_truth_cat.reshape(-1,1)\n",
    "    max_k_preds = QRscore.argsort(axis=1)[:, -k:][:, ::-1] #得到top-k max label\n",
    "    max_k_cat = R_cat[max_k_preds]\n",
    "    M = max_k_cat==y_truth_cat\n",
    "    for k in range(M.shape[1]):\n",
    "        match_array = np.logical_or.reduce(M[:,:k+1], axis=1) #得到匹配结果\n",
    "        topk_acc_score = match_array.sum() / match_array.shape[0]\n",
    "        res.append(topk_acc_score)\n",
    "    return res\n",
    "\n",
    "def one_hot_2_idx(y_one_hot):\n",
    "    \"\"\"\n",
    "    y_one_hot:FloatTensor shape:[batch_size, nCls]\n",
    "    y_idx: LongTensor shape:[batch_size,1]\n",
    "    \"\"\"\n",
    "    _,idx_mat = torch.max(y_one_hot,1,keepdim=False)\n",
    "    y_idx = idx_mat.view(-1,1)\n",
    "    return y_idx\n",
    "\n",
    "def one_hot_2_idx_numpy(y_one_hot):\n",
    "    \"\"\"\n",
    "    y_one_hot:FloatTensor shape:[batch_size, nCls]\n",
    "    y_idx: LongTensor shape:[batch_size,1]\n",
    "    \"\"\"\n",
    "    idx_mat = np.argmax(y_one_hot,1)\n",
    "    y_idx = idx_mat.reshape(-1,1)\n",
    "    return y_idx"
   ]
  },
  {
   "cell_type": "code",
   "execution_count": 8,
   "metadata": {},
   "outputs": [
    {
     "name": "stdout",
     "output_type": "stream",
     "text": [
      "352\n",
      "Index(['duns_number', 'atlas_location_uuid', 'label'], dtype='object')\n",
      "Done\n"
     ]
    },
    {
     "name": "stderr",
     "output_type": "stream",
     "text": [
      "/Users/yefeichen/anaconda3/lib/python3.7/site-packages/sklearn/utils/validation.py:761: DataConversionWarning: A column-vector y was passed when a 1d array was expected. Please change the shape of y to (n_samples, ), for example using ravel().\n",
      "  y = column_or_1d(y, warn=True)\n"
     ]
    },
    {
     "name": "stdout",
     "output_type": "stream",
     "text": [
      "0.552907933401182\n",
      "Done\n",
      "352\n",
      "Index(['duns_number', 'atlas_location_uuid', 'label'], dtype='object')\n",
      "Done\n"
     ]
    },
    {
     "name": "stderr",
     "output_type": "stream",
     "text": [
      "/Users/yefeichen/anaconda3/lib/python3.7/site-packages/sklearn/utils/validation.py:761: DataConversionWarning: A column-vector y was passed when a 1d array was expected. Please change the shape of y to (n_samples, ), for example using ravel().\n",
      "  y = column_or_1d(y, warn=True)\n"
     ]
    },
    {
     "name": "stdout",
     "output_type": "stream",
     "text": [
      "0.544006404843891\n",
      "Done\n",
      "352\n",
      "Index(['duns_number', 'atlas_location_uuid', 'label'], dtype='object')\n",
      "Done\n"
     ]
    },
    {
     "name": "stderr",
     "output_type": "stream",
     "text": [
      "/Users/yefeichen/anaconda3/lib/python3.7/site-packages/sklearn/utils/validation.py:761: DataConversionWarning: A column-vector y was passed when a 1d array was expected. Please change the shape of y to (n_samples, ), for example using ravel().\n",
      "  y = column_or_1d(y, warn=True)\n"
     ]
    },
    {
     "name": "stdout",
     "output_type": "stream",
     "text": [
      "0.5410039662793719\n",
      "Done\n",
      "352\n",
      "Index(['duns_number', 'atlas_location_uuid', 'label'], dtype='object')\n",
      "Done\n"
     ]
    },
    {
     "name": "stderr",
     "output_type": "stream",
     "text": [
      "/Users/yefeichen/anaconda3/lib/python3.7/site-packages/sklearn/utils/validation.py:761: DataConversionWarning: A column-vector y was passed when a 1d array was expected. Please change the shape of y to (n_samples, ), for example using ravel().\n",
      "  y = column_or_1d(y, warn=True)\n"
     ]
    },
    {
     "name": "stdout",
     "output_type": "stream",
     "text": [
      "0.5549706039820648\n",
      "Done\n",
      "352\n",
      "Index(['duns_number', 'atlas_location_uuid', 'label'], dtype='object')\n",
      "Done\n"
     ]
    },
    {
     "name": "stderr",
     "output_type": "stream",
     "text": [
      "/Users/yefeichen/anaconda3/lib/python3.7/site-packages/sklearn/utils/validation.py:761: DataConversionWarning: A column-vector y was passed when a 1d array was expected. Please change the shape of y to (n_samples, ), for example using ravel().\n",
      "  y = column_or_1d(y, warn=True)\n"
     ]
    },
    {
     "name": "stdout",
     "output_type": "stream",
     "text": [
      "0.564710760052904\n",
      "Done\n",
      "352\n",
      "Index(['duns_number', 'atlas_location_uuid', 'label'], dtype='object')\n",
      "Done\n"
     ]
    },
    {
     "name": "stderr",
     "output_type": "stream",
     "text": [
      "/Users/yefeichen/anaconda3/lib/python3.7/site-packages/sklearn/utils/validation.py:761: DataConversionWarning: A column-vector y was passed when a 1d array was expected. Please change the shape of y to (n_samples, ), for example using ravel().\n",
      "  y = column_or_1d(y, warn=True)\n"
     ]
    },
    {
     "name": "stdout",
     "output_type": "stream",
     "text": [
      "0.5564641960305777\n",
      "Done\n",
      "352\n",
      "Index(['duns_number', 'atlas_location_uuid', 'label'], dtype='object')\n",
      "Done\n"
     ]
    },
    {
     "name": "stderr",
     "output_type": "stream",
     "text": [
      "/Users/yefeichen/anaconda3/lib/python3.7/site-packages/sklearn/utils/validation.py:761: DataConversionWarning: A column-vector y was passed when a 1d array was expected. Please change the shape of y to (n_samples, ), for example using ravel().\n",
      "  y = column_or_1d(y, warn=True)\n"
     ]
    },
    {
     "name": "stdout",
     "output_type": "stream",
     "text": [
      "0.5418813043514504\n",
      "Done\n",
      "352\n",
      "Index(['duns_number', 'atlas_location_uuid', 'label'], dtype='object')\n",
      "Done\n"
     ]
    },
    {
     "name": "stderr",
     "output_type": "stream",
     "text": [
      "/Users/yefeichen/anaconda3/lib/python3.7/site-packages/sklearn/utils/validation.py:761: DataConversionWarning: A column-vector y was passed when a 1d array was expected. Please change the shape of y to (n_samples, ), for example using ravel().\n",
      "  y = column_or_1d(y, warn=True)\n"
     ]
    },
    {
     "name": "stdout",
     "output_type": "stream",
     "text": [
      "0.5466248638291163\n",
      "Done\n",
      "352\n",
      "Index(['duns_number', 'atlas_location_uuid', 'label'], dtype='object')\n",
      "Done\n"
     ]
    },
    {
     "name": "stderr",
     "output_type": "stream",
     "text": [
      "/Users/yefeichen/anaconda3/lib/python3.7/site-packages/sklearn/utils/validation.py:761: DataConversionWarning: A column-vector y was passed when a 1d array was expected. Please change the shape of y to (n_samples, ), for example using ravel().\n",
      "  y = column_or_1d(y, warn=True)\n"
     ]
    },
    {
     "name": "stdout",
     "output_type": "stream",
     "text": [
      "0.5315319618760701\n",
      "Done\n",
      "352\n",
      "Index(['duns_number', 'atlas_location_uuid', 'label'], dtype='object')\n",
      "Done\n"
     ]
    },
    {
     "name": "stderr",
     "output_type": "stream",
     "text": [
      "/Users/yefeichen/anaconda3/lib/python3.7/site-packages/sklearn/utils/validation.py:761: DataConversionWarning: A column-vector y was passed when a 1d array was expected. Please change the shape of y to (n_samples, ), for example using ravel().\n",
      "  y = column_or_1d(y, warn=True)\n"
     ]
    },
    {
     "name": "stdout",
     "output_type": "stream",
     "text": [
      "0.5171374166615634\n",
      "Done\n"
     ]
    }
   ],
   "source": [
    "best_auc = 0\n",
    "for lp in range(10):\n",
    "    loc_name = all_company_loc[['atlas_location_uuid']].groupby('atlas_location_uuid')[['atlas_location_uuid']].first().reset_index(drop=True)\n",
    "    num_loc = len(loc_name)\n",
    "    print(num_loc)\n",
    "    # del all_company_loc\n",
    "\n",
    "    dat2 = dat1.sample(frac=1).reset_index(drop=True)\n",
    "    twin_dat = dat1.join(dat2, how='left', lsuffix='_left', rsuffix = '_right').reset_index(drop=True)\n",
    "\n",
    "    twin_dat = twin_dat[twin_dat['atlas_location_uuid_left'] != twin_dat['atlas_location_uuid_right']]\n",
    "    neg_dat1 = twin_dat[['duns_number_left', 'atlas_location_uuid_right']].reset_index(drop=True)\n",
    "    neg_dat1 = neg_dat1.rename(\n",
    "                    columns={'duns_number_left': 'duns_number', 'atlas_location_uuid_right': 'atlas_location_uuid',\n",
    "                             'label_left':'label','fold_left':'fold','groundtruth_left':'groundtruth',\n",
    "                            'city_left':'city'})\n",
    "    neg_dat1 = neg_dat1[['duns_number','atlas_location_uuid']]\n",
    "    neg_dat1['label'] = 0\n",
    "\n",
    "    print(neg_dat1.columns)\n",
    "\n",
    "    # neg_dat2 = twin_dat[['duns_number_right', 'atlas_location_uuid_left']].reset_index(drop=True)\n",
    "    # neg_dat2 = neg_dat2.rename(\n",
    "    #                 columns={'duns_number_right': 'duns_number', 'atlas_location_uuid_left': 'atlas_location_uuid'})\n",
    "    # neg_dat2 = neg_dat2[['duns_number','atlas_location_uuid']]\n",
    "    # neg_dat2['label'] = 0\n",
    "\n",
    "    pos_dat = dat1[['duns_number', 'atlas_location_uuid', 'label']]\n",
    "    # del dat1,dat2\n",
    "\n",
    "    train_dat = pd.concat([pos_dat, neg_dat1], axis=0)\n",
    "    train_dat = train_dat.sample(frac=1).reset_index(drop=True)\n",
    "    print('Done')\n",
    "    trX = train_dat.merge(comp_feat,on='duns_number',how='left',suffixes=['','_right']).reset_index(drop=True)\n",
    "    trX = trX.merge(loc_feat,on='atlas_location_uuid',how='left',suffixes=['','_right']).reset_index(drop=True)\n",
    "    trX = trX.merge(ensemble_feat,on=['atlas_location_uuid','duns_number'],how='left',suffixes=['','_right']).reset_index(drop=True)\n",
    "    list_col = list(comp_feat.columns)+list(loc_feat.columns)+list(ensemble_feat.columns)\n",
    "    list_col = [col for col in list_col if col not in ['duns_number', 'atlas_location_uuid', 'label']]\n",
    "    trY = trX[['label']].to_numpy()\n",
    "#     trX['sim_score'] = 0\n",
    "    trX = trX[list_col].to_numpy()\n",
    "\n",
    "    ttX = all_pair_test[['duns_number','atlas_location_uuid']].merge(comp_feat,on='duns_number',how='left',suffixes=['','_right']).reset_index(drop=True)\n",
    "    ttX = ttX.merge(loc_feat,on='atlas_location_uuid',how='left',suffixes=['','_right']).reset_index(drop=True)\n",
    "    ttX = ttX.merge(ensemble_feat,on=['atlas_location_uuid','duns_number'],how='left',suffixes=['','_right']).reset_index(drop=True)\n",
    "    list_col = list(comp_feat.columns)+list(loc_feat.columns)+list(ensemble_feat.columns)\n",
    "    list_col = [col for col in list_col if col not in ['duns_number', 'atlas_location_uuid', 'label']]\n",
    "#     ttX['sim_score'] = 0\n",
    "    ttX = ttX[list_col].to_numpy()\n",
    "    ttY = (all_pair_test['atlas_location_uuid'] == all_pair_test['groundtruth']).to_numpy() + 0\n",
    "    # del all_pair_test\n",
    "\n",
    "    clf = LR(random_state=0,fit_intercept=True,\n",
    "             solver = 'lbfgs',class_weight='balanced',\n",
    "             multi_class='ovr',max_iter=1e10).fit(trX,trY)\n",
    "\n",
    "    score_ttY = clf.predict_proba(ttX)[:,1]\n",
    "\n",
    "\n",
    "    fpr, tpr, roc_thresholds = roc_curve(ttY, score_ttY)\n",
    "    roc_auc = auc(fpr,tpr)\n",
    "    print(roc_auc)\n",
    "    print('Done')\n",
    "    if roc_auc > best_auc:\n",
    "        best_clf = clf\n",
    "    "
   ]
  },
  {
   "cell_type": "code",
   "execution_count": 9,
   "metadata": {},
   "outputs": [
    {
     "data": {
      "image/png": "[encoded data removed]",
      "text/plain": [
       "<Figure size 432x288 with 1 Axes>"
      ]
     },
     "metadata": {
      "needs_background": "light"
     },
     "output_type": "display_data"
    }
   ],
   "source": [
    "score_ttY = best_clf.predict_proba(ttX)[:,1]\n",
    "\n",
    "\n",
    "fpr, tpr, roc_thresholds = roc_curve(ttY, score_ttY)\n",
    "roc_auc = auc(fpr,tpr)\n",
    "\n",
    "score_ttY = score_ttY.reshape(-1,num_loc)\n",
    "# groundtruth = all_pair_test[['duns_number','groundtruth']].groupby(['duns_number','groundtruth'])[['groundtruth']].first().reset_index(drop=True).to_numpy()\n",
    "# R_cat = loc_name.to_numpy().reshape(-1)\n",
    "# topk_precision = calc_topk_acc_cat_all(score_ttY,groundtruth,R_cat,k=100)\n",
    "ttY = ttY.reshape(-1,num_loc)\n",
    "truth_cat = one_hot_2_idx_numpy(ttY)\n",
    "R_cat = np.array(list(range(num_loc)))\n",
    "\n",
    "topk = 100\n",
    "topk_precision = calc_topk_acc_cat_all(score_ttY,truth_cat,R_cat,k=topk)\n",
    "\n",
    "\n",
    "\n",
    "x = list(range(1,topk+1))\n",
    "y = list(topk_precision)\n",
    "plt.figure()\n",
    "plt.plot(x,y)\n",
    "\n",
    "plt.grid()\n",
    "\n",
    "for z in range(10,topk+1,10):\n",
    "    z = z - 1\n",
    "    plt.text(z, y[z], '%.4f' % y[z], ha='center', va= 'bottom',fontsize=9)\n",
    "\n",
    "plt.xlabel(\"topk\")\n",
    "plt.ylabel(\"accuracy\")\n",
    "plt.title(\"topk accuracy curve of %s\"%cfile[ind_city])\n",
    "plt.show()\n"
   ]
  },
  {
   "cell_type": "code",
   "execution_count": 17,
   "metadata": {},
   "outputs": [
    {
     "name": "stdout",
     "output_type": "stream",
     "text": [
      "['emp_here', 'emp_total', 'sales_volume_us', 'square_footage', 'emp_here_range', 'major_industry_category_AGRICULTURE/FORESTRY/FISHING', 'major_industry_category_CONSTRUCTION', 'major_industry_category_FIN/INSURANCE/REAL ESTATE', 'major_industry_category_MANUFACTURING', 'major_industry_category_MINING', 'major_industry_category_MISC/PUBLIC ADMINISTRATION', 'major_industry_category_RETAIL TRADE', 'major_industry_category_SERVICES', 'major_industry_category_TRANS/COMMUNICATIONS/UTILITIES', 'major_industry_category_WHOLESALE TRADE', 'major_industry_category_nan', 'location_type_BRANCH', 'location_type_HEADQUARTERS', 'location_type_SINGLE', 'location_type_nan', 'primary_sic_2_digit_1', 'primary_sic_2_digit_10', 'primary_sic_2_digit_12', 'primary_sic_2_digit_13', 'primary_sic_2_digit_14', 'primary_sic_2_digit_15', 'primary_sic_2_digit_16', 'primary_sic_2_digit_17', 'primary_sic_2_digit_2', 'primary_sic_2_digit_20', 'primary_sic_2_digit_21', 'primary_sic_2_digit_22', 'primary_sic_2_digit_23', 'primary_sic_2_digit_24', 'primary_sic_2_digit_25', 'primary_sic_2_digit_26', 'primary_sic_2_digit_27', 'primary_sic_2_digit_28', 'primary_sic_2_digit_29', 'primary_sic_2_digit_30', 'primary_sic_2_digit_31', 'primary_sic_2_digit_32', 'primary_sic_2_digit_33', 'primary_sic_2_digit_34', 'primary_sic_2_digit_35', 'primary_sic_2_digit_36', 'primary_sic_2_digit_37', 'primary_sic_2_digit_38', 'primary_sic_2_digit_39', 'primary_sic_2_digit_40', 'primary_sic_2_digit_41', 'primary_sic_2_digit_42', 'primary_sic_2_digit_43', 'primary_sic_2_digit_44', 'primary_sic_2_digit_45', 'primary_sic_2_digit_46', 'primary_sic_2_digit_47', 'primary_sic_2_digit_48', 'primary_sic_2_digit_49', 'primary_sic_2_digit_50', 'primary_sic_2_digit_51', 'primary_sic_2_digit_52', 'primary_sic_2_digit_53', 'primary_sic_2_digit_54', 'primary_sic_2_digit_55', 'primary_sic_2_digit_56', 'primary_sic_2_digit_57', 'primary_sic_2_digit_58', 'primary_sic_2_digit_59', 'primary_sic_2_digit_60', 'primary_sic_2_digit_61', 'primary_sic_2_digit_62', 'primary_sic_2_digit_63', 'primary_sic_2_digit_64', 'primary_sic_2_digit_65', 'primary_sic_2_digit_67', 'primary_sic_2_digit_7', 'primary_sic_2_digit_70', 'primary_sic_2_digit_72', 'primary_sic_2_digit_73', 'primary_sic_2_digit_75', 'primary_sic_2_digit_76', 'primary_sic_2_digit_78', 'primary_sic_2_digit_79', 'primary_sic_2_digit_8', 'primary_sic_2_digit_80', 'primary_sic_2_digit_81', 'primary_sic_2_digit_82', 'primary_sic_2_digit_83', 'primary_sic_2_digit_84', 'primary_sic_2_digit_86', 'primary_sic_2_digit_87', 'primary_sic_2_digit_89', 'primary_sic_2_digit_9', 'primary_sic_2_digit_91', 'primary_sic_2_digit_92', 'primary_sic_2_digit_93', 'primary_sic_2_digit_94', 'primary_sic_2_digit_95', 'primary_sic_2_digit_96', 'primary_sic_2_digit_97', 'primary_sic_2_digit_nan', 'score_predicted_eo', 'score_employer', 'num_emp_weworkcore', 'num_poi_weworkcore', 'pct_wwcore_employee', 'pct_wwcore_business', 'num_retail_stores', 'num_doctor_offices', 'num_eating_places', 'num_drinking_places', 'num_hotels', 'num_fitness_gyms', 'population_density', 'pct_female_population', 'median_age', 'income_per_capita', 'pct_masters_degree', 'walk_score', 'bike_score', 'building_class_A', 'building_class_B', 'building_class_C', 'building_class_nan', 'sim_score']\n"
     ]
    }
   ],
   "source": [
    "print(list_col)"
   ]
  },
  {
   "cell_type": "code",
   "execution_count": 19,
   "metadata": {},
   "outputs": [
    {
     "data": {
      "text/plain": [
       "array([-0.10165502, -0.0209487 , -0.01242485, -0.11697559, -0.21866524,\n",
       "        0.        ,  0.        ,  0.        ,  0.        ,  0.        ,\n",
       "        0.        ,  0.        ,  1.        ,  0.        ,  0.        ,\n",
       "        0.        ,  0.        ,  0.        ,  1.        ,  0.        ,\n",
       "        0.        ,  0.        ,  0.        ,  0.        ,  0.        ,\n",
       "        0.        ,  0.        ,  0.        ,  0.        ,  0.        ,\n",
       "        0.        ,  0.        ,  0.        ,  0.        ,  0.        ,\n",
       "        0.        ,  0.        ,  0.        ,  0.        ,  0.        ,\n",
       "        0.        ,  0.        ,  0.        ,  0.        ,  0.        ,\n",
       "        0.        ,  0.        ,  0.        ,  0.        ,  0.        ,\n",
       "        0.        ,  0.        ,  0.        ,  0.        ,  0.        ,\n",
       "        0.        ,  0.        ,  0.        ,  0.        ,  0.        ,\n",
       "        0.        ,  0.        ,  0.        ,  0.        ,  0.        ,\n",
       "        0.        ,  0.        ,  0.        ,  0.        ,  0.        ,\n",
       "        0.        ,  0.        ,  0.        ,  0.        ,  0.        ,\n",
       "        0.        ,  0.        ,  0.        ,  0.        ,  1.        ,\n",
       "        0.        ,  0.        ,  0.        ,  0.        ,  0.        ,\n",
       "        0.        ,  0.        ,  0.        ,  0.        ,  0.        ,\n",
       "        0.        ,  0.        ,  0.        ,  0.        ,  0.        ,\n",
       "        0.        ,  0.        ,  0.        ,  0.        ,  0.        ,\n",
       "        0.        ,  0.        , -0.54803635, -0.71045675, -0.68430916,\n",
       "       -0.73442443, -0.07393409,  1.06402055, -0.8360859 , -0.88081372,\n",
       "       -0.85860218, -0.99718537, -0.5790302 , -0.73908186, -0.68912229,\n",
       "       -0.05882101,  1.07554009, -0.4303762 , -0.23956274, -0.34534518,\n",
       "        0.61244014,  0.        ,  1.        ,  0.        ,  0.        ,\n",
       "        0.        ])"
      ]
     },
     "execution_count": 19,
     "metadata": {},
     "output_type": "execute_result"
    }
   ],
   "source": []
  },
  {
   "cell_type": "code",
   "execution_count": 39,
   "metadata": {},
   "outputs": [],
   "source": [
    "x = np.random.random((3,5))\n",
    "y = normalize(x,axis=1)"
   ]
  },
  {
   "cell_type": "code",
   "execution_count": 43,
   "metadata": {},
   "outputs": [
    {
     "data": {
      "text/plain": [
       "array([1., 1., 1.])"
      ]
     },
     "execution_count": 43,
     "metadata": {},
     "output_type": "execute_result"
    }
   ],
   "source": [
    "(y**2).sum(axis=1)"
   ]
  },
  {
   "cell_type": "code",
   "execution_count": null,
   "metadata": {},
   "outputs": [],
   "source": []
  }
 ],
 "metadata": {
  "kernelspec": {
   "display_name": "Python 3",
   "language": "python",
   "name": "python3"
  },
  "language_info": {
   "codemirror_mode": {
    "name": "ipython",
    "version": 3
   },
   "file_extension": ".py",
   "mimetype": "text/x-python",
   "name": "python",
   "nbconvert_exporter": "python",
   "pygments_lexer": "ipython3",
   "version": "3.7.3"
  }
 },
 "nbformat": 4,
 "nbformat_minor": 2
}
